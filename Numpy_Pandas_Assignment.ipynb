{
 "cells": [
  {
   "cell_type": "markdown",
   "id": "d710923f-e4c7-444a-ba57-02b14ae777d3",
   "metadata": {},
   "source": [
    "# Exercise 1: (Score : 1)\n",
    "Create a numpy array containing the numbers from 1 to 10, and then reshape it to a 2x5 matrix.\n"
   ]
  },
  {
   "cell_type": "code",
   "execution_count": 1,
   "id": "1a2c73b7-780f-4387-882d-f4a6fbacf68a",
   "metadata": {},
   "outputs": [
    {
     "data": {
      "text/plain": [
       "array([[ 1,  2,  3,  4,  5],\n",
       "       [ 6,  7,  8,  9, 10]])"
      ]
     },
     "execution_count": 1,
     "metadata": {},
     "output_type": "execute_result"
    }
   ],
   "source": [
    "import numpy as np\n",
    "array_1_to_10 = np.arange(1, 11)\n",
    "matrix_2x5 = array_1_to_10.reshape(2, 5)\n",
    "matrix_2x5"
   ]
  },
  {
   "cell_type": "markdown",
   "id": "2612d024-ccef-46d0-b43c-1f5f21eff965",
   "metadata": {},
   "source": [
    "# Exercise 2: (Score : 1)\n",
    "Create a numpy array containing the numbers from 1 to 20, and then extract the elements between the 5th and 15th index\n"
   ]
  },
  {
   "cell_type": "code",
   "execution_count": 2,
   "id": "26cf8997-c3a8-45c0-93f8-5c7327a6a37a",
   "metadata": {},
   "outputs": [
    {
     "data": {
      "text/plain": [
       "array([ 6,  7,  8,  9, 10, 11, 12, 13, 14, 15, 16])"
      ]
     },
     "execution_count": 2,
     "metadata": {},
     "output_type": "execute_result"
    }
   ],
   "source": [
    "array_1_to_20 = np.arange(1, 21)\n",
    "extracted_elements = array_1_to_20[5:16]\n",
    "extracted_elements"
   ]
  },
  {
   "cell_type": "code",
   "execution_count": null,
   "id": "5f740af1-fd84-4255-a11b-d7995feaca00",
   "metadata": {},
   "outputs": [],
   "source": [
    "# Exercise 3: (Score : 2)\n",
    "Create a Pandas series with the following data: {'apples': 3, 'bananas': 2, 'oranges': 1}. Then, add a new item to the series with the key 'pears' and the value 4.\n"
   ]
  },
  {
   "cell_type": "code",
   "execution_count": 3,
   "id": "603b0eb2-63a5-475f-82fb-c6e4260e13eb",
   "metadata": {},
   "outputs": [
    {
     "data": {
      "text/plain": [
       "apples     3\n",
       "bananas    2\n",
       "oranges    1\n",
       "pears      4\n",
       "dtype: int64"
      ]
     },
     "execution_count": 3,
     "metadata": {},
     "output_type": "execute_result"
    }
   ],
   "source": [
    "import pandas as pd\n",
    "fruit_series = pd.Series({'apples': 3, 'bananas': 2, 'oranges': 1})\n",
    "fruit_series['pears'] = 4\n",
    "fruit_series"
   ]
  },
  {
   "cell_type": "markdown",
   "id": "ca093648-2e19-42fc-b8d3-ae72c4ede821",
   "metadata": {},
   "source": [
    "# Exercise 4: (Score : 2)\n",
    "Create a dataframe with the following columns: name, age, and gender. The dataframe should have 10 rows of data.\n"
   ]
  },
  {
   "cell_type": "code",
   "execution_count": 4,
   "id": "d96445e2-10e6-4bc5-be18-0126e907556c",
   "metadata": {},
   "outputs": [
    {
     "name": "stdout",
     "output_type": "stream",
     "text": [
      "     name  age  gender\n",
      "0  Thomas   25    Male\n",
      "1    Jack   30    Male\n",
      "2   Nimmy   35  Female\n",
      "3    Bony   28    Male\n",
      "4  Suresh   40    Male\n",
      "5  Firosh   22    Male\n",
      "6  George   33    Male\n",
      "7  Husain   27    Male\n",
      "8   Ishal   45  Female\n",
      "9    Jona   29  Female\n"
     ]
    }
   ],
   "source": [
    "import pandas as pd\n",
    "\n",
    "data = {\n",
    "    \"name\": [\"Thomas\", \"Jack\", \"Nimmy\", \"Bony\", \"Suresh\", \"Firosh\", \"George\", \"Husain\", \"Ishal\", \"Jona\"],\n",
    "    \"age\": [25, 30, 35, 28, 40, 22, 33, 27, 45, 29],\n",
    "    \"gender\": [\"Male\", \"Male\", \"Female\", \"Male\", \"Male\", \"Male\", \"Male\", \"Male\", \"Female\", \"Female\"]\n",
    "}\n",
    "\n",
    "df = pd.DataFrame(data)\n",
    "print(df)"
   ]
  },
  {
   "cell_type": "markdown",
   "id": "f22bd30d-8a63-4ea5-a911-939f2dd32fe4",
   "metadata": {},
   "source": [
    "# Exercise 5: (Score : 1)\n",
    "Add a new column to the data frame created in question 1, called occupation. The values for this column should be Programmer, Manager, and Analyst, corresponding to the rows in the dataframe.\n"
   ]
  },
  {
   "cell_type": "code",
   "execution_count": 5,
   "id": "a7b6ef7a-9eb0-4738-9c2b-3f8042dadad0",
   "metadata": {},
   "outputs": [
    {
     "name": "stdout",
     "output_type": "stream",
     "text": [
      "     name  age  gender  occupation\n",
      "0  Thomas   25    Male  Programmer\n",
      "1    Jack   30    Male     Manager\n",
      "2   Nimmy   35  Female     Analyst\n",
      "3    Bony   28    Male  Programmer\n",
      "4  Suresh   40    Male     Manager\n",
      "5  Firosh   22    Male     Analyst\n",
      "6  George   33    Male  Programmer\n",
      "7  Husain   27    Male     Manager\n",
      "8   Ishal   45  Female     Analyst\n",
      "9    Jona   29  Female  Programmer\n"
     ]
    }
   ],
   "source": [
    "import pandas as pd\n",
    "\n",
    "data = {\n",
    "    \"name\": [\"Thomas\", \"Jack\", \"Nimmy\", \"Bony\", \"Suresh\", \"Firosh\", \"George\", \"Husain\", \"Ishal\", \"Jona\"],\n",
    "    \"age\": [25, 30, 35, 28, 40, 22, 33, 27, 45, 29],\n",
    "    \"gender\": [\"Male\", \"Male\", \"Female\", \"Male\", \"Male\", \"Male\", \"Male\", \"Male\", \"Female\", \"Female\"]\n",
    "}\n",
    "\n",
    "df = pd.DataFrame(data)\n",
    "occupations = [\"Programmer\", \"Manager\", \"Analyst\", \"Programmer\", \"Manager\", \"Analyst\", \"Programmer\", \"Manager\", \"Analyst\", \"Programmer\"]\n",
    "df[\"occupation\"] = occupations\n",
    "print(df)"
   ]
  },
  {
   "cell_type": "markdown",
   "id": "77916a52-997c-46d8-ad3c-3aed321a5b1d",
   "metadata": {},
   "source": [
    "# Exercise 6: (Score : 1)\n",
    "Select the rows of the dataframe where the age is greater than or equal to 30.\n"
   ]
  },
  {
   "cell_type": "code",
   "execution_count": 6,
   "id": "86f097da-30cd-4622-a5f0-269562bde844",
   "metadata": {},
   "outputs": [
    {
     "name": "stdout",
     "output_type": "stream",
     "text": [
      "     name  age  gender  occupation\n",
      "1    Jack   30    Male     Manager\n",
      "2   Nimmy   35  Female     Analyst\n",
      "4  Suresh   40    Male     Manager\n",
      "6  George   33    Male  Programmer\n",
      "8   Ishal   45  Female     Analyst\n"
     ]
    }
   ],
   "source": [
    "# Select the rows of the dataframe where the age is greater than or equal to 30.\n",
    "\n",
    "filtered_df = df[df[\"age\"] >= 30]\n",
    "print(filtered_df)"
   ]
  },
  {
   "cell_type": "markdown",
   "id": "d7d20b64-ff5e-469f-9370-9b12ce6c40a1",
   "metadata": {},
   "source": [
    "# Exercise 7: (Score : 2)\n",
    "Convert this dataframe to a csv file and read that csv file, finally display the contents.\n"
   ]
  },
  {
   "cell_type": "code",
   "execution_count": 7,
   "id": "7dd7a69e-27d6-4ec0-8cde-6fa9c7642240",
   "metadata": {},
   "outputs": [
    {
     "name": "stdout",
     "output_type": "stream",
     "text": [
      "     name  age  gender\n",
      "0  Thomas   25    Male\n",
      "1    Jack   30    Male\n",
      "2   Nimmy   35  Female\n",
      "3    Bony   28    Male\n",
      "4  Suresh   40    Male\n",
      "5  Firosh   22    Male\n",
      "6  George   33    Male\n",
      "7  Husain   27    Male\n",
      "8   Ishal   45  Female\n",
      "9    Jona   29  Female\n"
     ]
    }
   ],
   "source": [
    "import pandas as pd\n",
    "\n",
    "data = {\n",
    "    \"name\": [\"Thomas\", \"Jack\", \"Nimmy\", \"Bony\", \"Suresh\", \"Firosh\", \"George\", \"Husain\", \"Ishal\", \"Jona\"],\n",
    "    \"age\": [25, 30, 35, 28, 40, 22, 33, 27, 45, 29],\n",
    "    \"gender\": [\"Male\", \"Male\", \"Female\", \"Male\", \"Male\", \"Male\", \"Male\", \"Male\", \"Female\", \"Female\"]\n",
    "}\n",
    "\n",
    "df = pd.DataFrame(data)\n",
    "occupations = [\"Programmer\", \"Manager\", \"Analyst\", \"Programmer\", \"Manager\", \"Analyst\", \"Programmer\", \"Manager\", \"Analyst\", \"Programmer\"]\n",
    "df[\"occupation\"] = occupations\n",
    "\n",
    "df = pd.DataFrame(data)\n",
    "\n",
    "df.to_csv(\"sample_dataframe.csv\", index=False)\n",
    "\n",
    "read_df = pd.read_csv(\"sample_dataframe.csv\")\n",
    "\n",
    "print(read_df)"
   ]
  },
  {
   "cell_type": "code",
   "execution_count": null,
   "id": "508a5939-5942-477e-a00d-142b77fe6d4e",
   "metadata": {},
   "outputs": [],
   "source": []
  }
 ],
 "metadata": {
  "kernelspec": {
   "display_name": "Python 3 (ipykernel)",
   "language": "python",
   "name": "python3"
  },
  "language_info": {
   "codemirror_mode": {
    "name": "ipython",
    "version": 3
   },
   "file_extension": ".py",
   "mimetype": "text/x-python",
   "name": "python",
   "nbconvert_exporter": "python",
   "pygments_lexer": "ipython3",
   "version": "3.12.7"
  }
 },
 "nbformat": 4,
 "nbformat_minor": 5
}
